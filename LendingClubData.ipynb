{
 "cells": [
  {
   "cell_type": "markdown",
   "metadata": {},
   "source": [
    "## Parsing the Lending Club data\n",
    "\n",
    "In trying to reproduce the analysis in [Venka's blog post](https://juliacomputing.com/blog/2017/08/22/lendingclub-demo-blog.html) I was unable to get some of it working.  In this notebook I will show the steps that I was able to use to parse the data sets.\n",
    "\n",
    "I suspect that some of my problem has to do with changes in the data sets.  In particular, there are now 137 fields in each of the CSV files and some further anonymizing appears to have been done.  The `id` and `member_id` fields are always empty strings and the `zip_code` field in now of the form `123xx` instead of `12345`.  This means it can't be parsed as an integer.\n",
    "\n",
    "The files have been augmented with a few lines of information about totals at the bottom.\n",
    "\n",
    "### Downloading the data\n",
    "\n",
    "The files can be obtained in a `.csv.zip` format at the [Lending Club site](https://www.lendingclub.com/info/download-data.action).\n",
    "After unzipping I ran a `sed` command like\n",
    "```sh\n",
    "~/LendingTree/files⟫ unzip ~/Downloads/LoanStats3a.csv.zip\n",
    "Archive:  /home/bates/Downloads/LoanStats3a.csv.zip\n",
    "  inflating: LoanStats3a.csv\n",
    "~/LendingTree/files⟫ wc LoanStats3a.csv\n",
    "   42544  2667455 41466518 LoanStats3a.csv\n",
    "~/LendingTree/files⟫ sed -i -n -e '/^\\\"/p' LoanStats3a.csv\n",
    "~/LendingTree/files⟫ wc LoanStats3a.csv\n",
    "   42536  2667426 41466304 LoanStats3a.csv\n",
    "```\n",
    "to strip any lines that did not begin with the `\"` character.\n",
    "\n",
    "This leaves a total of 1,524,087 records in the CSV files.\n",
    "```sh\n",
    "~/LendingTree/files⟫ wc -l LoanStats*.csv\n",
    "    133888 LoanStats_2016Q1.csv\n",
    "     97855 LoanStats_2016Q2.csv\n",
    "     99121 LoanStats_2016Q3.csv\n",
    "    103547 LoanStats_2016Q4.csv\n",
    "     96780 LoanStats_2017Q1.csv\n",
    "    105452 LoanStats_2017Q2.csv\n",
    "     42536 LoanStats3a.csv\n",
    "    188182 LoanStats3b.csv\n",
    "    235630 LoanStats3c.csv\n",
    "    421096 LoanStats3d.csv\n",
    "   1524087 total\n",
    "```\n",
    "\n",
    "### Using TextParse.csvread on a single file\n",
    "\n",
    "The most difficult part is creating the appropriate column parsers.  All of the fields are enclosed in quotes. I ended up using"
   ]
  },
  {
   "cell_type": "code",
   "execution_count": 1,
   "metadata": {},
   "outputs": [
    {
     "name": "stderr",
     "output_type": "stream",
     "text": [
      "WARNING: Method definition ==(Base.Nullable{S}, Base.Nullable{T}) in module Base at nullable.jl:238 overwritten in module NullableArrays at /home/bates/.julia/v0.6/NullableArrays/src/operators.jl:99.\n"
     ]
    }
   ],
   "source": [
    "\n",
    "using TextParse: csvread, Quoted, StrRange\n",
    "\n",
    "const parser = Dict(\n",
    "    \"id\"                              => Quoted(Nullable{Int}, required=true),\n",
    "    \"member_id\"                       => Quoted(Nullable{Int}, required=true),\n",
    "    \"loan_amnt\"                       => Quoted(Nullable{Int}, required=true),\n",
    "    \"funded_amnt\"                     => Quoted(Nullable{Int}, required=true),\n",
    "    \"funded_amnt_inv\"                 => Quoted(Nullable{Int}, required=true),\n",
    "    \"term\"                            => Quoted(StrRange, required=true),\n",
    "    \"int_rate\"                        => Quoted(StrRange, required=true),\n",
    "    \"installment\"                     => Quoted(Nullable{Float64}, required=true),\n",
    "    \"grade\"                           => Quoted(StrRange, required=true),\n",
    "    \"sub_grade\"                       => Quoted(StrRange, required=true),\n",
    "    \"emp_title\"                       => Quoted(StrRange, required=true),\n",
    "    \"emp_length\"                      => Quoted(StrRange, required=true),\n",
    "    \"home_ownership\"                  => Quoted(StrRange, required=true),\n",
    "    \"annual_inc\"                      => Quoted(Nullable{Float64}, required=true),\n",
    "    \"verification_status\"             => Quoted(StrRange, required=true),\n",
    "    \"issue_d\"                         => Quoted(StrRange, required=true),\n",
    "    \"loan_status\"                     => Quoted(StrRange, required=true),\n",
    "    \"pymnt_plan\"                      => Quoted(StrRange, required=true),\n",
    "    \"url\"                             => Quoted(StrRange, required=true),\n",
    "    \"desc\"                            => Quoted(StrRange, required=true),\n",
    "    \"purpose\"                         => Quoted(StrRange, required=true),\n",
    "    \"title\"                           => Quoted(StrRange, required=true),\n",
    "    \"zip_code\"                        => Quoted(StrRange, required=true),\n",
    "    \"addr_state\"                      => Quoted(StrRange, required=true),\n",
    "    \"dti\"                             => Quoted(Nullable{Float64}, required=true),\n",
    "    \"delinq_2yrs\"                     => Quoted(Nullable{Int}, required=true),\n",
    "    \"earliest_cr_line\"                => Quoted(StrRange, required=true),\n",
    "    \"inq_last_6mths\"                  => Quoted(Nullable{Int}, required=true),\n",
    "    \"mths_since_last_delinq\"          => Quoted(Nullable{Int}, required=true),\n",
    "    \"mths_since_last_record\"          => Quoted(Nullable{Int}, required=true),\n",
    "    \"open_acc\"                        => Quoted(Nullable{Int}, required=true),\n",
    "    \"pub_rec\"                         => Quoted(Nullable{Int}, required=true),\n",
    "    \"revol_bal\"                       => Quoted(Nullable{Int}, required=true),\n",
    "    \"revol_util\"                      => Quoted(StrRange, required=true),\n",
    "    \"total_acc\"                       => Quoted(Nullable{Int}, required=true),\n",
    "    \"initial_list_status\"             => Quoted(StrRange, required=true),\n",
    "    \"out_prncp\"                       => Quoted(Nullable{Float64}, required=true),\n",
    "    \"out_prncp_inv\"                   => Quoted(Nullable{Float64}, required=true),\n",
    "    \"total_pymnt\"                     => Quoted(Nullable{Float64}, required=true),\n",
    "    \"total_pymnt_inv\"                 => Quoted(Nullable{Float64}, required=true),\n",
    "    \"total_rec_prncp\"                 => Quoted(Nullable{Float64}, required=true),\n",
    "    \"total_rec_int\"                   => Quoted(Nullable{Float64}, required=true),\n",
    "    \"total_rec_late_fee\"              => Quoted(Nullable{Float64}, required=true),\n",
    "    \"recoveries\"                      => Quoted(Nullable{Float64}, required=true),\n",
    "    \"collection_recovery_fee\"         => Quoted(Nullable{Float64}, required=true),\n",
    "    \"last_pymnt_d\"                    => Quoted(StrRange, required=true),\n",
    "    \"last_pymnt_amnt\"                 => Quoted(Nullable{Float64}, required=true),\n",
    "    \"next_pymnt_d\"                    => Quoted(StrRange, required=true),\n",
    "    \"last_credit_pull_d\"              => Quoted(StrRange, required=true),\n",
    "    \"collections_12_mths_ex_med\"      => Quoted(Nullable{Int}, required=true),\n",
    "    \"mths_since_last_major_derog\"     => Quoted(Nullable{Int}, required=true),\n",
    "    \"policy_code\"                     => Quoted(Nullable{Int}, required=true),\n",
    "    \"application_type\"                => Quoted(StrRange, required=true),\n",
    "    \"annual_inc_joint\"                => Quoted(Nullable{Float64}, required=true),\n",
    "    \"dti_joint\"                       => Quoted(Nullable{Float64}, required=true),\n",
    "    \"verification_status_joint\"       => Quoted(StrRange, required=true),\n",
    "    \"acc_now_delinq\"                  => Quoted(Nullable{Int}, required=true),\n",
    "    \"tot_coll_amt\"                    => Quoted(Nullable{Int}, required=true),\n",
    "    \"tot_cur_bal\"                     => Quoted(Nullable{Int}, required=true),\n",
    "    \"open_acc_6m\"                     => Quoted(Nullable{Int}, required=true),\n",
    "    \"open_il_6m\"                      => Quoted(Nullable{Int}, required=true),\n",
    "    \"open_il_12m\"                     => Quoted(Nullable{Int}, required=true),\n",
    "    \"open_il_24m\"                     => Quoted(Nullable{Int}, required=true),\n",
    "    \"mths_since_rcnt_il\"              => Quoted(Nullable{Int}, required=true),\n",
    "    \"total_bal_il\"                    => Quoted(Nullable{Int}, required=true),\n",
    "    \"il_util\"                         => Quoted(Nullable{Float64}, required=true),\n",
    "    \"open_rv_12m\"                     => Quoted(Nullable{Int}, required=true),\n",
    "    \"open_rv_24m\"                     => Quoted(Nullable{Int}, required=true),\n",
    "    \"max_bal_bc\"                      => Quoted(Nullable{Int}, required=true),\n",
    "    \"all_util\"                        => Quoted(Nullable{Float64}, required=true),\n",
    "    \"total_rev_hi_lim\"                => Quoted(Nullable{Int}, required=true),\n",
    "    \"inq_fi\"                          => Quoted(Nullable{Int}, required=true),\n",
    "    \"total_cu_tl\"                     => Quoted(Nullable{Int}, required=true),\n",
    "    \"inq_last_12m\"                    => Quoted(Nullable{Int}, required=true),\n",
    "    \"acc_open_past_24mths\"            => Quoted(Nullable{Int}, required=true),\n",
    "    \"avg_cur_bal\"                     => Quoted(Nullable{Int}, required=true),\n",
    "    \"bc_open_to_buy\"                  => Quoted(Nullable{Int}, required=true),\n",
    "    \"bc_util\"                         => Quoted(Nullable{Float64}, required=true),\n",
    "    \"chargeoff_within_12_mths\"        => Quoted(Nullable{Int}, required=true),\n",
    "    \"delinq_amnt\"                     => Quoted(Nullable{Int}, required=true),\n",
    "    \"mo_sin_old_il_acct\"              => Quoted(Nullable{Int}, required=true),\n",
    "    \"mo_sin_old_rev_tl_op\"            => Quoted(Nullable{Int}, required=true),\n",
    "    \"mo_sin_rcnt_rev_tl_op\"           => Quoted(Nullable{Int}, required=true),\n",
    "    \"mo_sin_rcnt_tl\"                  => Quoted(Nullable{Int}, required=true),\n",
    "    \"mort_acc\"                        => Quoted(Nullable{Int}, required=true),\n",
    "    \"mths_since_recent_bc\"            => Quoted(Nullable{Int}, required=true),\n",
    "    \"mths_since_recent_bc_dlq\"        => Quoted(Nullable{Int}, required=true),\n",
    "    \"mths_since_recent_inq\"           => Quoted(Nullable{Int}, required=true),\n",
    "    \"mths_since_recent_revol_delinq\"  => Quoted(Nullable{Int}, required=true),\n",
    "    \"num_accts_ever_120_pd\"           => Quoted(Nullable{Int}, required=true),\n",
    "    \"num_actv_bc_tl\"                  => Quoted(Nullable{Int}, required=true),\n",
    "    \"num_actv_rev_tl\"                 => Quoted(Nullable{Int}, required=true),\n",
    "    \"num_bc_sats\"                     => Quoted(Nullable{Int}, required=true),\n",
    "    \"num_bc_tl\"                       => Quoted(Nullable{Int}, required=true),\n",
    "    \"num_il_tl\"                       => Quoted(Nullable{Int}, required=true),\n",
    "    \"num_op_rev_tl\"                   => Quoted(Nullable{Int}, required=true),\n",
    "    \"num_rev_accts\"                   => Quoted(Nullable{Int}, required=true),\n",
    "    \"num_rev_tl_bal_gt_0\"             => Quoted(Nullable{Int}, required=true),\n",
    "    \"num_sats\"                        => Quoted(Nullable{Int}, required=true),\n",
    "    \"num_tl_120dpd_2m\"                => Quoted(Nullable{Int}, required=true),\n",
    "    \"num_tl_30dpd\"                    => Quoted(Nullable{Int}, required=true),\n",
    "    \"num_tl_90g_dpd_24m\"              => Quoted(Nullable{Int}, required=true),\n",
    "    \"num_tl_op_past_12m\"              => Quoted(Nullable{Int}, required=true),\n",
    "    \"pct_tl_nvr_dlq\"                  => Quoted(Nullable{Float64}, required=true),\n",
    "    \"percent_bc_gt_75\"                => Quoted(Nullable{Float64}, required=true),\n",
    "    \"pub_rec_bankruptcies\"            => Quoted(Nullable{Int}, required=true),\n",
    "    \"tax_liens\"                       => Quoted(Nullable{Int}, required=true),\n",
    "    \"tot_hi_cred_lim\"                 => Quoted(Nullable{Int}, required=true),\n",
    "    \"total_bal_ex_mort\"               => Quoted(Nullable{Int}, required=true),\n",
    "    \"total_bc_limit\"                  => Quoted(Nullable{Int}, required=true),\n",
    "    \"total_il_high_credit_limit\"      => Quoted(Nullable{Int}, required=true),\n",
    "    \"revol_bal_joint\"                 => Quoted(Nullable{Int}, required=true),\n",
    "    \"sec_app_earliest_cr_line\"        => Quoted(StrRange, required=true),\n",
    "    \"sec_app_inq_last_6mths\"          => Quoted(StrRange, required=true),\n",
    "    \"sec_app_mort_acc\"                => Quoted(StrRange, required=true),\n",
    "    \"sec_app_open_acc\"                => Quoted(StrRange, required=true),\n",
    "    \"sec_app_revol_util\"              => Quoted(StrRange, required=true),\n",
    "    \"sec_app_open_il_6m\"              => Quoted(StrRange, required=true),\n",
    "    \"sec_app_num_rev_accts\"           => Quoted(StrRange, required=true),\n",
    "    \"sec_app_chargeoff_within_12_mths\"=> Quoted(StrRange, required=true),\n",
    "    \"sec_app_collections_12_mths_ex_med\"=> Quoted(StrRange, required=true),\n",
    "    \"sec_app_mths_since_last_major_derog\"=> Quoted(StrRange, required=true),\n",
    "    \"hardship_flag\"                   => Quoted(StrRange, required=true),\n",
    "    \"hardship_type\"                   => Quoted(StrRange, required=true),\n",
    "    \"hardship_reason\"                 => Quoted(StrRange, required=true),\n",
    "    \"hardship_status\"                 => Quoted(StrRange, required=true),\n",
    "    \"deferral_term\"                   => Quoted(StrRange, required=true),\n",
    "    \"hardship_amount\"                 => Quoted(Nullable{Int}, required=true),\n",
    "    \"hardship_start_date\"             => Quoted(StrRange, required=true),\n",
    "    \"hardship_end_date\"               => Quoted(StrRange, required=true),\n",
    "    \"payment_plan_start_date\"         => Quoted(StrRange, required=true),\n",
    "    \"hardship_length\"                 => Quoted(StrRange, required=true),\n",
    "    \"hardship_dpd\"                    => Quoted(StrRange, required=true),\n",
    "    \"hardship_loan_status\"            => Quoted(StrRange, required=true),\n",
    "    \"orig_projected_additional_accrued_interest\" => Quoted(StrRange, required=true),\n",
    "    \"hardship_payoff_balance_amount\"  => Quoted(StrRange, required=true),\n",
    "    \"hardship_last_payment_amount\"    => Quoted(StrRange, required=true));"
   ]
  },
  {
   "cell_type": "code",
   "execution_count": 2,
   "metadata": {},
   "outputs": [],
   "source": [
    "lending3b = csvread(\"files/LoanStats3b.csv\", escapechar='\"',\n",
    "    colparsers = parser, header_exists=true,\n",
    "    pooledstrings = true);"
   ]
  },
  {
   "cell_type": "markdown",
   "metadata": {},
   "source": [
    "Some of the columns could be parsed without allowing `Nullable`."
   ]
  },
  {
   "cell_type": "code",
   "execution_count": 3,
   "metadata": {},
   "outputs": [
    {
     "data": {
      "text/plain": [
       "false"
      ]
     },
     "execution_count": 3,
     "metadata": {},
     "output_type": "execute_result"
    }
   ],
   "source": [
    "any(isnull, lending3b[1][3])"
   ]
  },
  {
   "cell_type": "markdown",
   "metadata": {},
   "source": [
    "Others are all nulls, because of the anonymization."
   ]
  },
  {
   "cell_type": "code",
   "execution_count": 4,
   "metadata": {},
   "outputs": [
    {
     "data": {
      "text/plain": [
       "true"
      ]
     },
     "execution_count": 4,
     "metadata": {},
     "output_type": "execute_result"
    }
   ],
   "source": [
    "all(isnull, lending3b[1][1])"
   ]
  }
 ],
 "metadata": {
  "kernelspec": {
   "display_name": "Julia 0.6.0",
   "language": "julia",
   "name": "julia-0.6"
  },
  "language_info": {
   "file_extension": ".jl",
   "mimetype": "application/julia",
   "name": "julia",
   "version": "0.6.0"
  }
 },
 "nbformat": 4,
 "nbformat_minor": 2
}
